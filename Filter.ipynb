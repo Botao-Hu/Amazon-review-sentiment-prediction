{
 "cells": [
  {
   "cell_type": "code",
   "execution_count": 24,
   "metadata": {},
   "outputs": [],
   "source": [
    "import numpy as np\n",
    "from numpy import genfromtxt"
   ]
  },
  {
   "cell_type": "code",
   "execution_count": 25,
   "metadata": {
    "scrolled": true
   },
   "outputs": [
    {
     "name": "stdout",
     "output_type": "stream",
     "text": [
      "E:\\Caltech_Winter\\CS 155\\mini project1\\data\n"
     ]
    }
   ],
   "source": [
    "cd E:\\Caltech_Winter\\CS 155\\mini project1\\data"
   ]
  },
  {
   "cell_type": "code",
   "execution_count": 37,
   "metadata": {},
   "outputs": [],
   "source": [
    "train_data = genfromtxt('training_data.txt', delimiter=' ')\n",
    "train_data = train_data[1:]\n",
    "\n",
    "data = genfromtxt('bagging.txt', delimiter='\\t')\n",
    "label = data[1:,0]\n",
    "models = data[1:, 1:]"
   ]
  },
  {
   "cell_type": "code",
   "execution_count": 27,
   "metadata": {},
   "outputs": [],
   "source": [
    "index = np.arange(20000)\n",
    "\n",
    "np.random.seed(123456)\n",
    "ind = np.random.permutation(20000)\n",
    "new_index = index[ind].astype(int)"
   ]
  },
  {
   "cell_type": "code",
   "execution_count": 35,
   "metadata": {},
   "outputs": [
    {
     "name": "stdout",
     "output_type": "stream",
     "text": [
      "2719\n"
     ]
    }
   ],
   "source": [
    "w_list = []\n",
    "for i in range(20000):\n",
    "    sum = 0\n",
    "    for j in range(8):\n",
    "        if label[i] != models[i, j]:\n",
    "            sum += 1\n",
    "    if sum >= 5:\n",
    "        w_list.append(i)\n",
    "print(len(w_list))"
   ]
  },
  {
   "cell_type": "code",
   "execution_count": 51,
   "metadata": {},
   "outputs": [],
   "source": [
    "with open(\"WrongList.txt\", 'a') as text_file:\n",
    "    text_file.write('Index\\tLabel\\tNN\\tRF\\tSVM\\tXGB\\tADA\\tLog\\tRidge\\tKNN\\n')\n",
    "    for w in w_list:\n",
    "        s = '\\t'.join(map(str, train_data[w,1:]))\n",
    "        text_file.write('%d\\t%d\\t%d\\t%d\\t%d\\t%d\\t%d\\t%d\\t%d\\t%d\\t%s\\n' % (new_index[w], label[w], models[w,0], models[w,1], models[w,2], models[w,3], \n",
    "                                                        models[w,4],models[w,5], models[w,6], models[w,7], s))"
   ]
  },
  {
   "cell_type": "code",
   "execution_count": null,
   "metadata": {},
   "outputs": [],
   "source": []
  }
 ],
 "metadata": {
  "kernelspec": {
   "display_name": "Python 3",
   "language": "python",
   "name": "python3"
  },
  "language_info": {
   "codemirror_mode": {
    "name": "ipython",
    "version": 3
   },
   "file_extension": ".py",
   "mimetype": "text/x-python",
   "name": "python",
   "nbconvert_exporter": "python",
   "pygments_lexer": "ipython3",
   "version": "3.5.4"
  }
 },
 "nbformat": 4,
 "nbformat_minor": 2
}
