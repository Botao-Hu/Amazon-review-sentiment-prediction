{
 "cells": [
  {
   "cell_type": "markdown",
   "metadata": {},
   "source": [
    "## Miniproject 1 - Neural Networks Approach"
   ]
  },
  {
   "cell_type": "code",
   "execution_count": 20,
   "metadata": {},
   "outputs": [],
   "source": [
    "import numpy as np \n",
    "import tensorflow as tf \n",
    "import keras\n",
    "import matplotlib.pyplot as plt\n",
    "from keras.models import Sequential\n",
    "from keras.layers import BatchNormalization\n",
    "from keras.layers.core import Dense, Activation, Flatten, Dropout\n",
    "from sklearn.model_selection import KFold\n",
    "from sklearn.decomposition import PCA"
   ]
  },
  {
   "cell_type": "code",
   "execution_count": 2,
   "metadata": {},
   "outputs": [
    {
     "name": "stdout",
     "output_type": "stream",
     "text": [
      "E:\\Caltech_Winter\\CS 155\\mini project1\\data\n"
     ]
    }
   ],
   "source": [
    "cd E:\\Caltech_Winter\\CS 155\\mini project1\\data"
   ]
  },
  {
   "cell_type": "markdown",
   "metadata": {},
   "source": [
    "## Import Training Data"
   ]
  },
  {
   "cell_type": "code",
   "execution_count": 3,
   "metadata": {},
   "outputs": [
    {
     "name": "stdout",
     "output_type": "stream",
     "text": [
      "(20000, 500)\n"
     ]
    }
   ],
   "source": [
    "from numpy import genfromtxt\n",
    "import numpy as np\n",
    "train_file = 'training_data.txt'\n",
    "test_file = 'test_data.txt'\n",
    "train_data = genfromtxt(train_file, delimiter=' ')\n",
    "test_data = genfromtxt(test_file, delimiter=' ')\n",
    "train_data = train_data[1:]\n",
    "\n",
    "np.random.seed(123456)\n",
    "ind = np.random.permutation(train_data.shape[0])\n",
    "new_train_data = train_data[ind].astype(int)\n",
    "\n",
    "X_train = new_train_data[:,1:]\n",
    "y_train = new_train_data[:,0]\n",
    "\n",
    "# XX = np.array([[-1, -1], [-2, -1], [-3, -2], [1, 1], [2, 1], [3, 2]])\n",
    "pca=PCA(copy=True, iterated_power='auto', n_components=500, random_state=None,\n",
    "  svd_solver='auto', tol=0.0, whiten=False)\n",
    "pca.fit(X_train)\n",
    "\n",
    "X_pca=pca.transform(X_train)\n",
    "print(X_pca.shape)"
   ]
  },
  {
   "cell_type": "markdown",
   "metadata": {},
   "source": [
    "## Build Neural Networks Function"
   ]
  },
  {
   "cell_type": "code",
   "execution_count": 7,
   "metadata": {},
   "outputs": [],
   "source": [
    "def NeuralRun(X_train, y_train, num_epoch, dropout, num_hidden_x, learning_rate):\n",
    "    model = Sequential()\n",
    "    model.add(Dense(num_hidden_x, input_shape=(len(X_train[0]),)))\n",
    "    model.add(BatchNormalization())\n",
    "    model.add(Activation('relu'))\n",
    "    model.add(Dropout(dropout))\n",
    "    model.add(Dense(1))\n",
    "    model.add(Activation('sigmoid'))\n",
    "\n",
    "    # compile network\n",
    "    Adam = keras.optimizers.Adam(lr = learning_rate, beta_1=0.9, beta_2=0.999, epsilon=None, decay=0.0, amsgrad=False)\n",
    "    model.compile(loss='binary_crossentropy', optimizer=Adam, metrics=['accuracy'])\n",
    "\n",
    "    fit = model.fit(X_train, y_train, batch_size = 32, epochs=num_epoch, verbose=0)\n",
    "\n",
    "    return model"
   ]
  },
  {
   "cell_type": "markdown",
   "metadata": {},
   "source": [
    "## Cross Validation Function"
   ]
  },
  {
   "cell_type": "code",
   "execution_count": 16,
   "metadata": {},
   "outputs": [],
   "source": [
    "def CrossValidation(X_train, y_train, num_epoch, fold, dropout, num_hidden_x, learning_rate):\n",
    "    \n",
    "    kf = KFold(n_splits=fold)\n",
    "    max_acc = 0\n",
    "    i = 1\n",
    "    sum_val_acc = 0\n",
    "    train_acc = np.zeros(fold)\n",
    "    val_acc = np.zeros(fold)\n",
    "    \n",
    "    print('Parameters: [Epochs] %d, [Fold] %d; [Dropout] %s, [Hidden X] %d, [Learning Rate] %s' \n",
    "          % (num_epoch, fold, dropout, num_hidden_x, learning_rate))\n",
    "    print('Start Training...')\n",
    "    for train_index, test_index in kf.split(X_train):\n",
    "        print('Train on Fold %1d' % i)\n",
    "        i = i + 1\n",
    "        \n",
    "        model = NeuralRun(X_train[train_index], y_train[train_index], num_epoch, dropout, num_hidden_x, learning_rate)\n",
    "        \n",
    "        # Printing the accuracy of our model, according to the loss function specified in model.compile\n",
    "        score1 = model.evaluate(X_train[train_index], y_train[train_index], verbose=0)\n",
    "        print('Training accuracy:', score1[1])\n",
    "        train_acc[i - 2] = score1[1]\n",
    "        score2 = model.evaluate(X_train[test_index], y_train[test_index], verbose=0)\n",
    "        print('Test accuracy:', score2[1])\n",
    "        val_acc[i - 2] = score2[1]\n",
    "        \n",
    "        sum_val_acc += score2[1]\n",
    "        \n",
    "        if score2[1] > max_acc:\n",
    "            max_model = model\n",
    "            max_acc = score2[1]\n",
    "    \n",
    "    print('Best accuracy:', max_acc, 'Avg accuracy:', sum_val_acc / fold)\n",
    "    return train_acc, val_acc"
   ]
  },
  {
   "cell_type": "code",
   "execution_count": 22,
   "metadata": {},
   "outputs": [],
   "source": [
    "def plot_learning_curve(train_errors, val_errors, train_sizes, title, ylim=None, save_name=None):\n",
    "    \n",
    "    train_errors_mean = np.mean(train_errors, axis = 1)\n",
    "    train_errors_std = np.std(train_errors, axis = 1)\n",
    "    val_errors_mean = np.mean(val_errors, axis = 1)\n",
    "    val_errors_std = np.std(val_errors, axis = 1)\n",
    "    \n",
    "    plt.figure()\n",
    "    plt.title(title)\n",
    "    if ylim is not None:\n",
    "        plt.ylim(*ylim)\n",
    "    plt.xlabel(\"Dropout Rate\")\n",
    "    plt.ylabel(\"Accuracy\")\n",
    "    plt.grid()\n",
    "    plt.fill_between(train_sizes, train_errors_mean - train_errors_std, \\\n",
    "                     train_errors_mean + train_errors_std, alpha = 0.1, color = 'r')\n",
    "    plt.fill_between(train_sizes, val_errors_mean - val_errors_std, \\\n",
    "                    val_errors_mean + val_errors_std, alpha = 0.1, color = 'g')\n",
    "    plt.plot(train_sizes, train_errors_mean, 'o-', color = 'r', label = \"Training accuracy\")\n",
    "    plt.plot(train_sizes, val_errors_mean, 'o-', color = 'g', label = \"Cross-validation accuracy\")\n",
    "    plt.legend(loc = 'best')\n",
    "    \n",
    "    if save_name is not None:\n",
    "        plt.savefig(save_name + '.png', dpi=600)\n",
    "    \n",
    "    return plt"
   ]
  },
  {
   "cell_type": "markdown",
   "metadata": {},
   "source": [
    "## Testing for Parameters"
   ]
  },
  {
   "cell_type": "code",
   "execution_count": 25,
   "metadata": {},
   "outputs": [
    {
     "name": "stdout",
     "output_type": "stream",
     "text": [
      "Parameters: [Epochs] 10, [Fold] 5; [Dropout] 0.0, [Hidden X] 70, [Learning Rate] 0.001\n",
      "Start Training...\n",
      "Train on Fold 1\n",
      "Training accuracy: 0.995125\n",
      "Test accuracy: 0.83075\n",
      "Train on Fold 2\n",
      "Training accuracy: 0.995125\n",
      "Test accuracy: 0.81975\n",
      "Train on Fold 3\n",
      "Training accuracy: 0.9963125\n",
      "Test accuracy: 0.82375\n",
      "Train on Fold 4\n",
      "Training accuracy: 0.9948125\n",
      "Test accuracy: 0.83225\n",
      "Train on Fold 5\n",
      "Training accuracy: 0.99475\n",
      "Test accuracy: 0.8305\n",
      "Best accuracy: 0.83225 Avg accuracy: 0.8274000000000001\n",
      "Parameters: [Epochs] 10, [Fold] 5; [Dropout] 0.1, [Hidden X] 70, [Learning Rate] 0.001\n",
      "Start Training...\n",
      "Train on Fold 1\n",
      "Training accuracy: 0.9926875\n",
      "Test accuracy: 0.84\n",
      "Train on Fold 2\n",
      "Training accuracy: 0.9936875\n",
      "Test accuracy: 0.82825\n",
      "Train on Fold 3\n",
      "Training accuracy: 0.9935625\n",
      "Test accuracy: 0.83675\n",
      "Train on Fold 4\n",
      "Training accuracy: 0.9928125\n",
      "Test accuracy: 0.829\n",
      "Train on Fold 5\n",
      "Training accuracy: 0.9923125\n",
      "Test accuracy: 0.8375\n",
      "Best accuracy: 0.84 Avg accuracy: 0.8343\n",
      "Parameters: [Epochs] 10, [Fold] 5; [Dropout] 0.2, [Hidden X] 70, [Learning Rate] 0.001\n",
      "Start Training...\n",
      "Train on Fold 1\n",
      "Training accuracy: 0.989125\n",
      "Test accuracy: 0.83625\n",
      "Train on Fold 2\n",
      "Training accuracy: 0.99\n",
      "Test accuracy: 0.83625\n",
      "Train on Fold 3\n",
      "Training accuracy: 0.989625\n",
      "Test accuracy: 0.8345\n",
      "Train on Fold 4\n",
      "Training accuracy: 0.9899375\n",
      "Test accuracy: 0.83775\n",
      "Train on Fold 5\n",
      "Training accuracy: 0.9868125\n",
      "Test accuracy: 0.833\n",
      "Best accuracy: 0.83775 Avg accuracy: 0.8355500000000001\n",
      "Parameters: [Epochs] 10, [Fold] 5; [Dropout] 0.30000000000000004, [Hidden X] 70, [Learning Rate] 0.001\n",
      "Start Training...\n",
      "Train on Fold 1\n",
      "Training accuracy: 0.9804375\n",
      "Test accuracy: 0.8465\n",
      "Train on Fold 2\n",
      "Training accuracy: 0.985\n",
      "Test accuracy: 0.8415\n",
      "Train on Fold 3\n",
      "Training accuracy: 0.98325\n",
      "Test accuracy: 0.84275\n",
      "Train on Fold 4\n",
      "Training accuracy: 0.984625\n",
      "Test accuracy: 0.84475\n",
      "Train on Fold 5\n",
      "Training accuracy: 0.9835625\n",
      "Test accuracy: 0.8375\n",
      "Best accuracy: 0.8465 Avg accuracy: 0.8426\n",
      "Parameters: [Epochs] 10, [Fold] 5; [Dropout] 0.4, [Hidden X] 70, [Learning Rate] 0.001\n",
      "Start Training...\n",
      "Train on Fold 1\n",
      "Training accuracy: 0.9761875\n",
      "Test accuracy: 0.84275\n",
      "Train on Fold 2\n",
      "Training accuracy: 0.9748125\n",
      "Test accuracy: 0.8435\n",
      "Train on Fold 3\n",
      "Training accuracy: 0.9750625\n",
      "Test accuracy: 0.84\n",
      "Train on Fold 4\n",
      "Training accuracy: 0.9755625\n",
      "Test accuracy: 0.84275\n",
      "Train on Fold 5\n",
      "Training accuracy: 0.974875\n",
      "Test accuracy: 0.84475\n",
      "Best accuracy: 0.84475 Avg accuracy: 0.84275\n",
      "Parameters: [Epochs] 10, [Fold] 5; [Dropout] 0.5, [Hidden X] 70, [Learning Rate] 0.001\n",
      "Start Training...\n",
      "Train on Fold 1\n",
      "Training accuracy: 0.96275\n",
      "Test accuracy: 0.845\n",
      "Train on Fold 2\n",
      "Training accuracy: 0.9655625\n",
      "Test accuracy: 0.8465\n",
      "Train on Fold 3\n",
      "Training accuracy: 0.962125\n",
      "Test accuracy: 0.84675\n",
      "Train on Fold 4\n",
      "Training accuracy: 0.963625\n",
      "Test accuracy: 0.846\n",
      "Train on Fold 5\n",
      "Training accuracy: 0.96175\n",
      "Test accuracy: 0.84925\n",
      "Best accuracy: 0.84925 Avg accuracy: 0.8467\n",
      "Parameters: [Epochs] 10, [Fold] 5; [Dropout] 0.6000000000000001, [Hidden X] 70, [Learning Rate] 0.001\n",
      "Start Training...\n",
      "Train on Fold 1\n",
      "Training accuracy: 0.9459375\n",
      "Test accuracy: 0.84525\n",
      "Train on Fold 2\n",
      "Training accuracy: 0.94875\n",
      "Test accuracy: 0.847\n",
      "Train on Fold 3\n",
      "Training accuracy: 0.9444375\n",
      "Test accuracy: 0.849\n",
      "Train on Fold 4\n",
      "Training accuracy: 0.9488125\n",
      "Test accuracy: 0.8455\n",
      "Train on Fold 5\n",
      "Training accuracy: 0.9449375\n",
      "Test accuracy: 0.8495\n",
      "Best accuracy: 0.8495 Avg accuracy: 0.8472500000000001\n",
      "Parameters: [Epochs] 10, [Fold] 5; [Dropout] 0.7000000000000001, [Hidden X] 70, [Learning Rate] 0.001\n",
      "Start Training...\n",
      "Train on Fold 1\n",
      "Training accuracy: 0.92675\n",
      "Test accuracy: 0.85075\n",
      "Train on Fold 2\n",
      "Training accuracy: 0.9305625\n",
      "Test accuracy: 0.84875\n",
      "Train on Fold 3\n",
      "Training accuracy: 0.9295625\n",
      "Test accuracy: 0.848\n",
      "Train on Fold 4\n",
      "Training accuracy: 0.92925\n",
      "Test accuracy: 0.84075\n",
      "Train on Fold 5\n",
      "Training accuracy: 0.9269375\n",
      "Test accuracy: 0.85175\n",
      "Best accuracy: 0.85175 Avg accuracy: 0.8480000000000001\n",
      "Parameters: [Epochs] 10, [Fold] 5; [Dropout] 0.8, [Hidden X] 70, [Learning Rate] 0.001\n",
      "Start Training...\n",
      "Train on Fold 1\n",
      "Training accuracy: 0.9078125\n",
      "Test accuracy: 0.8525\n",
      "Train on Fold 2\n",
      "Training accuracy: 0.9095625\n",
      "Test accuracy: 0.8515\n",
      "Train on Fold 3\n",
      "Training accuracy: 0.908375\n",
      "Test accuracy: 0.853\n",
      "Train on Fold 4\n",
      "Training accuracy: 0.910875\n",
      "Test accuracy: 0.84825\n",
      "Train on Fold 5\n",
      "Training accuracy: 0.907875\n",
      "Test accuracy: 0.852\n",
      "Best accuracy: 0.853 Avg accuracy: 0.8514500000000002\n",
      "Parameters: [Epochs] 10, [Fold] 5; [Dropout] 0.9, [Hidden X] 70, [Learning Rate] 0.001\n",
      "Start Training...\n",
      "Train on Fold 1\n",
      "Training accuracy: 0.887875\n",
      "Test accuracy: 0.853\n",
      "Train on Fold 2\n",
      "Training accuracy: 0.8886875\n",
      "Test accuracy: 0.851\n",
      "Train on Fold 3\n",
      "Training accuracy: 0.89075\n",
      "Test accuracy: 0.849\n",
      "Train on Fold 4\n",
      "Training accuracy: 0.888875\n",
      "Test accuracy: 0.843\n",
      "Train on Fold 5\n",
      "Training accuracy: 0.8869375\n",
      "Test accuracy: 0.848\n",
      "Best accuracy: 0.853 Avg accuracy: 0.8488\n",
      "Parameters: [Epochs] 10, [Fold] 5; [Dropout] 1.0, [Hidden X] 70, [Learning Rate] 0.001\n",
      "Start Training...\n",
      "Train on Fold 1\n",
      "Training accuracy: 0.9965\n",
      "Test accuracy: 0.82975\n",
      "Train on Fold 2\n",
      "Training accuracy: 0.9953125\n",
      "Test accuracy: 0.82025\n",
      "Train on Fold 3\n",
      "Training accuracy: 0.9964375\n",
      "Test accuracy: 0.83675\n",
      "Train on Fold 4\n",
      "Training accuracy: 0.9940625\n",
      "Test accuracy: 0.83775\n",
      "Train on Fold 5\n",
      "Training accuracy: 0.9945625\n",
      "Test accuracy: 0.83925\n",
      "Best accuracy: 0.83925 Avg accuracy: 0.8327499999999999\n"
     ]
    }
   ],
   "source": [
    "fold = 5\n",
    "dropout = np.linspace(0, 1, 11)\n",
    "num_hidden_x = 70\n",
    "learning_rate = 0.001\n",
    "num_epoch = 10\n",
    "N = len(dropout)\n",
    "train = np.zeros((N, fold))\n",
    "val = np.zeros((N, fold))\n",
    "for i in range(N):\n",
    "    train[i, :], val[i, :] = CrossValidation(X_train, y_train, num_epoch, fold, dropout[i], num_hidden_x, learning_rate)\n",
    "# plot_learning_curve(train, val, dropout, 'NN', save_name='figure1')"
   ]
  },
  {
   "cell_type": "code",
   "execution_count": 28,
   "metadata": {},
   "outputs": [
    {
     "data": {
      "text/plain": [
       "<module 'matplotlib.pyplot' from 'D:\\\\Anaconda3\\\\envs\\\\tensorflow\\\\lib\\\\site-packages\\\\matplotlib\\\\pyplot.py'>"
      ]
     },
     "execution_count": 28,
     "metadata": {},
     "output_type": "execute_result"
    },
    {
     "data": {
      "image/png": "[encoded data removed]",
      "text/plain": [
       "<matplotlib.figure.Figure at 0x1de87d86e48>"
      ]
     },
     "metadata": {},
     "output_type": "display_data"
    }
   ],
   "source": [
    "plot_learning_curve(train[:-1], val[:-1], dropout[:-1], 'Neural Networks Training Curve vs. Dropout Rate', save_name='figure1')"
   ]
  },
  {
   "cell_type": "markdown",
   "metadata": {},
   "source": [
    "## Try Bagging"
   ]
  },
  {
   "cell_type": "code",
   "execution_count": 20,
   "metadata": {},
   "outputs": [],
   "source": [
    "y_stack = np.zeros((len(y_train), 1))"
   ]
  },
  {
   "cell_type": "code",
   "execution_count": 21,
   "metadata": {},
   "outputs": [],
   "source": [
    "fold = 5\n",
    "dropout = 0.8\n",
    "num_hidden_x = 80\n",
    "learning_rate = 0.001\n",
    "num_epoch = 10\n",
    "kf = KFold(n_splits=fold)\n",
    "\n",
    "for train_index, test_index in kf.split(X_train):\n",
    "    model = NeuralRun(X_pca[train_index], y_train[train_index], num_epoch, dropout, num_hidden_x, learning_rate)\n",
    "    y_stack[test_index] = model.predict(X_pca[test_index])"
   ]
  },
  {
   "cell_type": "code",
   "execution_count": 22,
   "metadata": {},
   "outputs": [],
   "source": [
    "y_stack_int = [1 if i > 0.5 else 0 for i in y_stack]\n",
    "\n",
    "with open(\"NNPCA.txt\", 'a') as text_file:\n",
    "    text_file.write(\"Id,Prediction\\n\")\n",
    "    for i in range(len(y_stack_int)):\n",
    "        text_file.write(\"{},{}\\n\".format(i+1, y_stack_int[i]))"
   ]
  },
  {
   "cell_type": "markdown",
   "metadata": {},
   "source": [
    "## Prediction in test"
   ]
  },
  {
   "cell_type": "code",
   "execution_count": 24,
   "metadata": {},
   "outputs": [],
   "source": [
    "X_test = test_data[1:]\n",
    "X_test_pca = pca.transform(X_test)\n",
    "\n",
    "model = NeuralRun(X_pca, y_train, num_epoch, dropout, num_hidden_x, learning_rate)\n",
    "y_test = model.predict(X_test_pca)"
   ]
  },
  {
   "cell_type": "code",
   "execution_count": 26,
   "metadata": {},
   "outputs": [],
   "source": [
    "y_test_int = [1 if i > 0.5 else 0 for i in y_test]\n",
    "\n",
    "with open(\"NNPCATest.txt\", 'a') as text_file:\n",
    "    text_file.write(\"Id,Prediction\\n\")\n",
    "    for i in range(len(y_test_int)):\n",
    "        text_file.write(\"{},{}\\n\".format(i+1, y_test_int[i]))"
   ]
  },
  {
   "cell_type": "markdown",
   "metadata": {},
   "source": [
    "## Help for Adaboost"
   ]
  },
  {
   "cell_type": "code",
   "execution_count": 18,
   "metadata": {},
   "outputs": [
    {
     "name": "stdout",
     "output_type": "stream",
     "text": [
      "New Fold Starts...\n",
      "1 Fold Complete...\n",
      "New Fold Starts...\n",
      "1 Fold Complete...\n",
      "New Fold Starts...\n",
      "1 Fold Complete...\n",
      "[0. 0. 1. ... 0. 0. 0.]\n"
     ]
    }
   ],
   "source": [
    "from sklearn.ensemble import AdaBoostClassifier\n",
    "from sklearn.tree import DecisionTreeClassifier\n",
    "\n",
    "y_stack_ada = np.zeros(len(y_train))\n",
    "\n",
    "fold = 5\n",
    "kf = KFold(n_splits=fold)\n",
    "i = 0\n",
    "\n",
    "for train_index, test_index in kf.split(X_train):\n",
    "    if i > 2:\n",
    "        break\n",
    "    i = i + 1\n",
    "    print('New Fold Starts...')\n",
    "    model = AdaBoostClassifier(DecisionTreeClassifier(max_depth=4), algorithm=\"SAMME\", n_estimators=1500, learning_rate=1.0)\n",
    "    model.fit(X_train[train_index], y_train[train_index])\n",
    "    y_stack_ada[test_index] = model.predict(X_train[test_index])\n",
    "    print('1 Fold Complete...')\n",
    "\n",
    "print(y_stack_ada)"
   ]
  },
  {
   "cell_type": "code",
   "execution_count": 19,
   "metadata": {},
   "outputs": [],
   "source": [
    "y_stack_int = [1 if i > 0.5 else 0 for i in y_stack_ada]\n",
    "\n",
    "with open(\"AdaBoost.txt\", 'a') as text_file:\n",
    "    text_file.write(\"Id,Prediction\\n\")\n",
    "    for i in range(len(y_stack_int)):\n",
    "        text_file.write(\"{},{}\\n\".format(i+1, y_stack_int[i]))"
   ]
  },
  {
   "cell_type": "code",
   "execution_count": null,
   "metadata": {},
   "outputs": [],
   "source": []
  }
 ],
 "metadata": {
  "kernelspec": {
   "display_name": "Python 3",
   "language": "python",
   "name": "python3"
  },
  "language_info": {
   "codemirror_mode": {
    "name": "ipython",
    "version": 3
   },
   "file_extension": ".py",
   "mimetype": "text/x-python",
   "name": "python",
   "nbconvert_exporter": "python",
   "pygments_lexer": "ipython3",
   "version": "3.5.4"
  }
 },
 "nbformat": 4,
 "nbformat_minor": 2
}
