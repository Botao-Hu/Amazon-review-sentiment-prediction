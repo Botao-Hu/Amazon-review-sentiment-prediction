{
 "cells": [
  {
   "cell_type": "markdown",
   "metadata": {},
   "source": [
    "# Miniproject1 - K Nearest Neighbors Approach"
   ]
  },
  {
   "cell_type": "code",
   "execution_count": 1,
   "metadata": {},
   "outputs": [],
   "source": [
    "import numpy as np \n",
    "from sklearn.neighbors import KNeighborsClassifier\n",
    "from sklearn.model_selection import KFold\n",
    "from sklearn.decomposition import PCA"
   ]
  },
  {
   "cell_type": "code",
   "execution_count": 2,
   "metadata": {},
   "outputs": [
    {
     "name": "stdout",
     "output_type": "stream",
     "text": [
      "E:\\Caltech_Winter\\CS 155\\mini project1\\data\n"
     ]
    }
   ],
   "source": [
    "cd E:\\Caltech_Winter\\CS 155\\mini project1\\data"
   ]
  },
  {
   "cell_type": "markdown",
   "metadata": {},
   "source": [
    "## Importing Data"
   ]
  },
  {
   "cell_type": "code",
   "execution_count": 3,
   "metadata": {},
   "outputs": [
    {
     "name": "stdout",
     "output_type": "stream",
     "text": [
      "(20000, 500)\n"
     ]
    }
   ],
   "source": [
    "from numpy import genfromtxt\n",
    "import numpy as np\n",
    "train_file = 'training_data.txt'\n",
    "test_file = 'test_data.txt'\n",
    "train_data = genfromtxt(train_file, delimiter=' ')\n",
    "test_data = genfromtxt(test_file, delimiter=' ')\n",
    "train_data = train_data[1:]\n",
    "\n",
    "np.random.seed(123456)\n",
    "ind = np.random.permutation(train_data.shape[0])\n",
    "new_train_data = train_data[ind].astype(int)\n",
    "\n",
    "X_train = new_train_data[:,1:]\n",
    "y_train = new_train_data[:,0]\n",
    "\n",
    "# XX = np.array([[-1, -1], [-2, -1], [-3, -2], [1, 1], [2, 1], [3, 2]])\n",
    "pca=PCA(copy=True, iterated_power='auto', n_components=500, random_state=None,\n",
    "  svd_solver='auto', tol=0.0, whiten=False)\n",
    "pca.fit(X_train)\n",
    "\n",
    "X_pca=pca.transform(X_train)\n",
    "print(X_pca.shape)"
   ]
  },
  {
   "cell_type": "markdown",
   "metadata": {},
   "source": [
    "## Cross Validation Function"
   ]
  },
  {
   "cell_type": "code",
   "execution_count": 15,
   "metadata": {},
   "outputs": [],
   "source": [
    "def CrossValidation(X_train, y_train, n_neighbors, weights, fold):\n",
    "\n",
    "    kf = KFold(n_splits=fold)\n",
    "    max_acc = 0\n",
    "    i = 1\n",
    "    sum_acc = 0\n",
    "    \n",
    "    print('Parameters: [N_neighbors] %d, [Weights] %s, [Fold] %d' \n",
    "          % (n_neighbors, weights, fold))\n",
    "    print('Start Training...')\n",
    "    \n",
    "    for train_index, test_index in kf.split(X_train):\n",
    "        if i == 2:\n",
    "            break\n",
    "        print('Train on Fold %1d' % i)\n",
    "        i = i + 1\n",
    "        \n",
    "        KNN = KNeighborsClassifier(n_neighbors=n_neighbors, weights=weights)\n",
    "        KNN.fit(X_train[train_index], y_train[train_index])\n",
    "        \n",
    "        train_acc = KNN.score(X_train[train_index], y_train[train_index])\n",
    "        test_acc = KNN.score(X_train[test_index], y_train[test_index])\n",
    "        \n",
    "        print('Training accuracy:', train_acc)\n",
    "        print('Test accuracy:', test_acc)\n",
    "        \n",
    "        sum_acc += test_acc\n",
    "        if test_acc > max_acc:\n",
    "            max_acc = test_acc\n",
    "            \n",
    "    print('Best accuracy:', max_acc, 'Avg accuracy:', sum_acc / fold)"
   ]
  },
  {
   "cell_type": "markdown",
   "metadata": {},
   "source": [
    "## Testing Parameters"
   ]
  },
  {
   "cell_type": "code",
   "execution_count": 22,
   "metadata": {},
   "outputs": [
    {
     "name": "stdout",
     "output_type": "stream",
     "text": [
      "Parameters: [N_neighbors] 5, [Weights] uniform, [Fold] 5\n",
      "Start Training...\n",
      "Train on Fold 1\n",
      "Training accuracy: 0.782375\n",
      "Test accuracy: 0.6515\n",
      "Best accuracy: 0.6515 Avg accuracy: 0.1303\n",
      "Parameters: [N_neighbors] 10, [Weights] uniform, [Fold] 5\n",
      "Start Training...\n",
      "Train on Fold 1\n",
      "Training accuracy: 0.7514375\n",
      "Test accuracy: 0.6765\n",
      "Best accuracy: 0.6765 Avg accuracy: 0.1353\n",
      "Parameters: [N_neighbors] 20, [Weights] uniform, [Fold] 5\n",
      "Start Training...\n",
      "Train on Fold 1\n",
      "Training accuracy: 0.745625\n",
      "Test accuracy: 0.69475\n",
      "Best accuracy: 0.69475 Avg accuracy: 0.13895\n",
      "Parameters: [N_neighbors] 50, [Weights] uniform, [Fold] 5\n",
      "Start Training...\n",
      "Train on Fold 1\n",
      "Training accuracy: 0.738375\n",
      "Test accuracy: 0.714\n",
      "Best accuracy: 0.714 Avg accuracy: 0.14279999999999998\n"
     ]
    }
   ],
   "source": [
    "# train_data1 = train_data[1:100]\n",
    "fold = 5\n",
    "n_neighbors = [5, 10, 20, 50]\n",
    "weights = 'uniform'\n",
    "for n in n_neighbors:\n",
    "    CrossValidation(X_pca, y_train, n, weights, fold)"
   ]
  },
  {
   "cell_type": "markdown",
   "metadata": {},
   "source": [
    "## Without PCA"
   ]
  },
  {
   "cell_type": "code",
   "execution_count": 21,
   "metadata": {},
   "outputs": [
    {
     "name": "stdout",
     "output_type": "stream",
     "text": [
      "Parameters: [N_neighbors] 5, [Weights] uniform, [Fold] 5\n",
      "Start Training...\n",
      "Train on Fold 1\n",
      "Training accuracy: 0.7409375\n",
      "Test accuracy: 0.64275\n",
      "Best accuracy: 0.64275 Avg accuracy: 0.12855\n",
      "Parameters: [N_neighbors] 10, [Weights] uniform, [Fold] 5\n",
      "Start Training...\n",
      "Train on Fold 1\n",
      "Training accuracy: 0.755125\n",
      "Test accuracy: 0.66975\n",
      "Best accuracy: 0.66975 Avg accuracy: 0.13394999999999999\n",
      "Parameters: [N_neighbors] 20, [Weights] uniform, [Fold] 5\n",
      "Start Training...\n",
      "Train on Fold 1\n",
      "Training accuracy: 0.7400625\n",
      "Test accuracy: 0.68725\n",
      "Best accuracy: 0.68725 Avg accuracy: 0.13745000000000002\n",
      "Parameters: [N_neighbors] 50, [Weights] uniform, [Fold] 5\n",
      "Start Training...\n",
      "Train on Fold 1\n",
      "Training accuracy: 0.7089375\n",
      "Test accuracy: 0.6805\n",
      "Best accuracy: 0.6805 Avg accuracy: 0.1361\n"
     ]
    }
   ],
   "source": [
    "fold = 5\n",
    "n_neighbors = [5, 10, 20, 50]\n",
    "weights = 'uniform'\n",
    "for n in n_neighbors:\n",
    "    CrossValidation(X_train, y_train, n, weights, fold)"
   ]
  },
  {
   "cell_type": "markdown",
   "metadata": {},
   "source": [
    "## Try Bagging (without PCA)"
   ]
  },
  {
   "cell_type": "code",
   "execution_count": 26,
   "metadata": {},
   "outputs": [],
   "source": [
    "y_stack = np.zeros(len(y_train))\n",
    "fold = 5\n",
    "n_neighbors = 20\n",
    "weights = 'uniform'\n",
    "\n",
    "kf = KFold(n_splits=fold)\n",
    "\n",
    "for train_index, test_index in kf.split(X_train):\n",
    "    KNN = KNeighborsClassifier(n_neighbors=n_neighbors, weights=weights)\n",
    "    KNN.fit(X_train[train_index], y_train[train_index])\n",
    "    y_stack[test_index] = KNN.predict(X_train[test_index])"
   ]
  },
  {
   "cell_type": "code",
   "execution_count": 27,
   "metadata": {},
   "outputs": [],
   "source": [
    "y_stack_int = [1 if i > 0.5 else 0 for i in y_stack]\n",
    "\n",
    "with open(\"KNN.txt\", 'a') as text_file:\n",
    "    text_file.write(\"Id,Prediction\\n\")\n",
    "    for i in range(len(y_stack_int)):\n",
    "        text_file.write(\"{},{}\\n\".format(i+1, y_stack_int[i]))"
   ]
  },
  {
   "cell_type": "code",
   "execution_count": 28,
   "metadata": {},
   "outputs": [],
   "source": [
    "X_test = test_data[1:]\n",
    "KNN = KNeighborsClassifier(n_neighbors=n_neighbors, weights=weights)\n",
    "KNN.fit(X_train, y_train)\n",
    "y_test = KNN.predict(X_test)"
   ]
  },
  {
   "cell_type": "code",
   "execution_count": 29,
   "metadata": {},
   "outputs": [],
   "source": [
    "y_test_int = [1 if i > 0.5 else 0 for i in y_test]\n",
    "\n",
    "with open(\"KNNTest.txt\", 'a') as text_file:\n",
    "    text_file.write(\"Id,Prediction\\n\")\n",
    "    for i in range(len(y_test_int)):\n",
    "        text_file.write(\"{},{}\\n\".format(i+1, y_test_int[i]))"
   ]
  },
  {
   "cell_type": "markdown",
   "metadata": {},
   "source": [
    "## Try Bagging (with PCA)"
   ]
  },
  {
   "cell_type": "code",
   "execution_count": 4,
   "metadata": {},
   "outputs": [],
   "source": [
    "y_stack = np.zeros(len(y_train))\n",
    "fold = 5\n",
    "n_neighbors = 50\n",
    "weights = 'uniform'\n",
    "\n",
    "kf = KFold(n_splits=fold)\n",
    "\n",
    "for train_index, test_index in kf.split(X_train):\n",
    "    KNN = KNeighborsClassifier(n_neighbors=n_neighbors, weights=weights)\n",
    "    KNN.fit(X_pca[train_index], y_train[train_index])\n",
    "    y_stack[test_index] = KNN.predict(X_pca[test_index])"
   ]
  },
  {
   "cell_type": "code",
   "execution_count": 5,
   "metadata": {},
   "outputs": [],
   "source": [
    "y_stack_int = [1 if i > 0.5 else 0 for i in y_stack]\n",
    "\n",
    "with open(\"KNNPCA.txt\", 'a') as text_file:\n",
    "    text_file.write(\"Id,Prediction\\n\")\n",
    "    for i in range(len(y_stack_int)):\n",
    "        text_file.write(\"{},{}\\n\".format(i+1, y_stack_int[i]))"
   ]
  },
  {
   "cell_type": "code",
   "execution_count": 6,
   "metadata": {},
   "outputs": [],
   "source": [
    "X_test = test_data[1:]\n",
    "X_test_pca = pca.transform(X_test)\n",
    "KNN = KNeighborsClassifier(n_neighbors=n_neighbors, weights=weights)\n",
    "KNN.fit(X_pca, y_train)\n",
    "y_test = KNN.predict(X_test_pca)"
   ]
  },
  {
   "cell_type": "code",
   "execution_count": 7,
   "metadata": {},
   "outputs": [],
   "source": [
    "y_test_int = [1 if i > 0.5 else 0 for i in y_test]\n",
    "\n",
    "with open(\"KNNPCATest.txt\", 'a') as text_file:\n",
    "    text_file.write(\"Id,Prediction\\n\")\n",
    "    for i in range(len(y_test_int)):\n",
    "        text_file.write(\"{},{}\\n\".format(i+1, y_test_int[i]))"
   ]
  },
  {
   "cell_type": "code",
   "execution_count": null,
   "metadata": {},
   "outputs": [],
   "source": []
  }
 ],
 "metadata": {
  "kernelspec": {
   "display_name": "Python 3",
   "language": "python",
   "name": "python3"
  },
  "language_info": {
   "codemirror_mode": {
    "name": "ipython",
    "version": 3
   },
   "file_extension": ".py",
   "mimetype": "text/x-python",
   "name": "python",
   "nbconvert_exporter": "python",
   "pygments_lexer": "ipython3",
   "version": "3.5.4"
  }
 },
 "nbformat": 4,
 "nbformat_minor": 2
}
